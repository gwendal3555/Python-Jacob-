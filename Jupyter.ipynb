{
 "cells": [
  {
   "cell_type": "code",
   "execution_count": 1,
   "metadata": {},
   "outputs": [
    {
     "name": "stdout",
     "output_type": "stream",
     "text": [
      "Index(['AnimalName', 'AnimalGender', 'AnimalBirthMonth', 'BreedName',\n",
      "       'LicenseIssuedDate', 'LicenseExpiredDate', 'Extract Year', 'ZipCode',\n",
      "       'Borough', 'Unique Dog ID'],\n",
      "      dtype='object')\n"
     ]
    }
   ],
   "source": [
    "import pandas as pd\n",
    "import matplotlib as plt\n",
    "import numpy as np\n",
    "# sert à importer les bibliothèques et à les renommer si on veut \n",
    "\n",
    "\n",
    "DogLicense = pd.read_csv(\"Datasets/NYC_Dog_Licensing_Dataset.csv\", sep=\";\")\n",
    "print(DogLicense.columns)"
   ]
  }
 ],
 "metadata": {
  "kernelspec": {
   "display_name": "Python 3",
   "language": "python",
   "name": "python3"
  },
  "language_info": {
   "codemirror_mode": {
    "name": "ipython",
    "version": 3
   },
   "file_extension": ".py",
   "mimetype": "text/x-python",
   "name": "python",
   "nbconvert_exporter": "python",
   "pygments_lexer": "ipython3",
   "version": "3.11.1"
  },
  "orig_nbformat": 4,
  "vscode": {
   "interpreter": {
    "hash": "4f7388e733d862585efa2e4c9cd0409ee8bec02946a4468556861c72450fb7cc"
   }
  }
 },
 "nbformat": 4,
 "nbformat_minor": 2
}
